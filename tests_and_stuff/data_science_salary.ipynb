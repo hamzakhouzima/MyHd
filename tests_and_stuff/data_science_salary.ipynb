{
 "cells": [
  {
   "cell_type": "code",
   "execution_count": 58,
   "metadata": {},
   "outputs": [],
   "source": [
    "\n",
    "import pandas as pd \n",
    "from powerbiclient import Report, models\n",
    "\n"
   ]
  },
  {
   "cell_type": "code",
   "execution_count": null,
   "metadata": {},
   "outputs": [],
   "source": []
  },
  {
   "cell_type": "code",
   "execution_count": 80,
   "metadata": {},
   "outputs": [],
   "source": [
    "df = pd.read_csv('ds_salaries.csv')\n",
    "\n",
    "calculate = []\n",
    "work_year = df['work_year']\n",
    "\n",
    "company_location = df['company_location']\n",
    "\n",
    "location_rate = [[]]\n",
    "\n",
    "salary = df['salary']\n",
    "\n",
    "#zip comany location and salary , to loop throught and calculate the rate \n",
    "\n",
    "#this calculates the rate of data scientists salaries in US  \n",
    "        \n",
    "# for location,sal in zip(company_location,salary):\n",
    "#     if location =='US':\n",
    "#         print(location,sal)\n",
    "#         calculate.append(sal)\n",
    "\n",
    "#moutamadriss account J130051978@taalim.ma\n",
    "#Amar1968taha\n",
    "\n",
    "for location in company_location:\n",
    "    found = False #becomes true when the below loop breaks \n",
    "    for arr in location_rate:\n",
    "        if location in arr:\n",
    "            arr.append(location)\n",
    "            found = True\n",
    "            break\n",
    "    if not found:\n",
    "        location_rate.append([location])\n",
    "\n",
    "# print(len(location_rate))\n",
    "\n",
    "# for arr in location_rate:\n",
    "#     if len(arr) > 0:\n",
    "#         print(arr[0])\n",
    "#         print(len(arr))\n",
    "        \n",
    "df = pd.DataFrame(columns=['Location', 'Count'])\n",
    "\n",
    "for arr in location_rate:\n",
    "    if len(arr) > 0:\n",
    "        location = arr[0]\n",
    "        count = len(arr)\n",
    "        df = pd.concat([df, pd.DataFrame({'Location': [location], 'Count': [count]})])\n",
    "\n",
    "# Export DataFrame to Excel\n",
    "df.to_excel('rate.xlsx', index=False)\n",
    "    \n",
    "      \n",
    "      \n",
    "# print(sum(calculate)/len(calculate))\n",
    "\n",
    "\n",
    "# print()\n"
   ]
  },
  {
   "cell_type": "code",
   "execution_count": null,
   "metadata": {},
   "outputs": [],
   "source": [
    "!pip install powerbiclient\n"
   ]
  }
 ],
 "metadata": {
  "kernelspec": {
   "display_name": "Python 3",
   "language": "python",
   "name": "python3"
  },
  "language_info": {
   "codemirror_mode": {
    "name": "ipython",
    "version": 3
   },
   "file_extension": ".py",
   "mimetype": "text/x-python",
   "name": "python",
   "nbconvert_exporter": "python",
   "pygments_lexer": "ipython3",
   "version": "3.11.4"
  },
  "orig_nbformat": 4
 },
 "nbformat": 4,
 "nbformat_minor": 2
}
