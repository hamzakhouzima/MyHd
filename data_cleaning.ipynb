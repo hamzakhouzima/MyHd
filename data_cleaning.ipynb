{
 "cells": [
  {
   "cell_type": "code",
   "execution_count": 46,
   "metadata": {},
   "outputs": [],
   "source": [
    "import pandas as pd \n",
    "\n",
    "df = pd.read_excel('contact_result_table.xlsx')\n"
   ]
  },
  {
   "cell_type": "code",
   "execution_count": 56,
   "metadata": {},
   "outputs": [],
   "source": [
    "# social_account = df['socialAccount']\n",
    "temp_array = []\n",
    "for index,row in df.iterrows():\n",
    "    social_account = row['socialAccount']\n",
    "    temp_array.append(social_account)\n",
    "\n",
    "for i in range(len(temp_array)):\n",
    "    temp_array[i] = temp_array[i].replace('[]', '')\n",
    "\n",
    "# for j in temp_array:\n",
    "#     if len(j)>1:\n",
    "#         # temp_array[j] = temp_array[j].replace('[', '')\n",
    "#         # temp_array[j] = temp_array[j].replace(']', '')\n",
    "#         print(j)\n",
    "\n",
    "temp_array_cleaned_from_brackets = [item.strip(\"[]\") for item in temp_array]\n",
    "total_clean_array = [item.strip(\"'\") for item in temp_array_cleaned_from_brackets]\n",
    "\n",
    "\n",
    "# print(temp_array_cleaned_from_quotes)\n",
    "df['socialAccount'] =  total_clean_array\n",
    "\n",
    "df.to_excel('cleaned_contact.xlsx', index=False)\n",
    "\n",
    "\n",
    "        \n"
   ]
  },
  {
   "cell_type": "code",
   "execution_count": null,
   "metadata": {},
   "outputs": [],
   "source": [
    "#reform the dataframe and put the phone numbers on the right places \n",
    "import re\n",
    "df_clean = pd.read_excel('cleaned_contact.xlsx')\n",
    "\n",
    "clean_links = df_clean['socialAccount']\n",
    "\n",
    "phone_numbers_list = []\n",
    "\n",
    "for i in clean_links:\n",
    "    string_row = str(i)\n",
    "    phone_numbers = re.findall(r'tel:(.*?)(\\')', string_row)\n",
    "\n",
    "    # Extract the phone numbers from the match groups\n",
    "    phone_numbers = [phone for phone, _ in phone_numbers]\n",
    "\n",
    "    phone_numbers_list.append(phone_numbers)\n",
    "df_clean['phone'] = phone_numbers_list\n",
    "df_clean.to_excel('cleaned_contact.xlsx', index=False)\n"
   ]
  },
  {
   "cell_type": "code",
   "execution_count": null,
   "metadata": {},
   "outputs": [],
   "source": []
  }
 ],
 "metadata": {
  "kernelspec": {
   "display_name": "Python 3",
   "language": "python",
   "name": "python3"
  },
  "language_info": {
   "name": "python",
   "version": "3.11.4"
  },
  "orig_nbformat": 4
 },
 "nbformat": 4,
 "nbformat_minor": 2
}
