{
 "cells": [
  {
   "cell_type": "code",
   "execution_count": 46,
   "metadata": {},
   "outputs": [],
   "source": [
    "import pandas as pd \n",
    "\n",
    "df = pd.read_excel('contact_result_table.xlsx')\n"
   ]
  },
  {
   "cell_type": "code",
   "execution_count": 56,
   "metadata": {},
   "outputs": [],
   "source": [
    "# social_account = df['socialAccount']\n",
    "temp_array = []\n",
    "for index,row in df.iterrows():\n",
    "    social_account = row['socialAccount']\n",
    "    temp_array.append(social_account)\n",
    "\n",
    "for i in range(len(temp_array)):\n",
    "    temp_array[i] = temp_array[i].replace('[]', '')\n",
    "\n",
    "# for j in temp_array:\n",
    "#     if len(j)>1:\n",
    "#         # temp_array[j] = temp_array[j].replace('[', '')\n",
    "#         # temp_array[j] = temp_array[j].replace(']', '')\n",
    "#         print(j)\n",
    "\n",
    "temp_array_cleaned_from_brackets = [item.strip(\"[]\") for item in temp_array]\n",
    "total_clean_array = [item.strip(\"'\") for item in temp_array_cleaned_from_brackets]\n",
    "\n",
    "\n",
    "# print(temp_array_cleaned_from_quotes)\n",
    "df['socialAccount'] =  total_clean_array\n",
    "\n",
    "df.to_excel('cleaned_contact.xlsx', index=False)\n",
    "\n",
    "\n",
    "        \n"
   ]
  },
  {
   "cell_type": "code",
   "execution_count": 125,
   "metadata": {},
   "outputs": [
    {
     "name": "stdout",
     "output_type": "stream",
     "text": [
      "saved successfully\n"
     ]
    }
   ],
   "source": [
    "#reform the dataframe and put the phone numbers on the right places \n",
    "df_clean3 = pd.read_excel('cleaned_contact2.xlsx')\n",
    "\n",
    "df_clean3['email'] = df_clean3['socialAccount'].str.extract(r'mailto:(\\S+)')\n",
    "\n",
    "# Removing extracted emails from 'socialAccount' column\n",
    "df_clean3['socialAccount'] = df_clean3['socialAccount'].str.replace(r'mailto:(\\S+)', '', regex=True)\n",
    "\n",
    "# Extracting phone numbers from 'socialAccount' column\n",
    "df_clean3['phone'] = df_clean3['socialAccount'].str.extract(r'tel:\\s*([\\d\\s]+)')\n",
    "\n",
    "# Removing extracted phone numbers from 'socialAccount' column\n",
    "# df_clean3['socialAccount'] = df_clean3['socialAccount'].str.replace(r'tel:(\\S+)', '', regex=True)\n",
    "df_clean3['socialAccount'] = df_clean3['socialAccount'].str.replace(r'tel:\\s*([\\d\\s]+)', '', regex=True)\n",
    "\n",
    "df_clean3.to_excel('cleaned_contact_5.xlsx' ,index=False)\n",
    "print('saved successfully' )"
   ]
  },
  {
   "cell_type": "code",
   "execution_count": null,
   "metadata": {},
   "outputs": [],
   "source": [
    "df_clean3 = pd.read_excel('cleaned_contact.xlsx')\n",
    "df_clean3['socialAccount'] = df_clean3['socialAccount'].str.replace(r'(mailto:|tel:).*', '', regex=True)\n",
    "\n",
    "\n",
    "\n",
    "\n"
   ]
  }
 ],
 "metadata": {
  "kernelspec": {
   "display_name": "Python 3",
   "language": "python",
   "name": "python3"
  },
  "language_info": {
   "name": "python",
   "version": "3.11.4"
  },
  "orig_nbformat": 4
 },
 "nbformat": 4,
 "nbformat_minor": 2
}
